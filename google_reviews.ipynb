{
 "cells": [
  {
   "cell_type": "code",
   "execution_count": 1,
   "id": "d9451013",
   "metadata": {},
   "outputs": [],
   "source": [
    "import time\n",
    "import requests\n",
    "from lxml import etree\n",
    "import pandas as pd\n",
    "from selenium import webdriver\n",
    "from selenium.webdriver.chrome.service import Service\n",
    "from selenium.webdriver.common.by import By\n",
    "from selenium.webdriver.support.ui import WebDriverWait\n",
    "from selenium.webdriver.support import expected_conditions as EC\n",
    "from bs4 import BeautifulSoup"
   ]
  },
  {
   "cell_type": "code",
   "execution_count": 2,
   "id": "a66e75a9",
   "metadata": {},
   "outputs": [
    {
     "name": "stdout",
     "output_type": "stream",
     "text": [
      "              Name   Date                                             Review\n",
      "0      mete atasoy   1 週前                                                   \n",
      "1      Steven Dunn  1 個月前  我已經說過這太棒了，我自己、我 11 歲的兒子，還有我可能的女婿，都喜歡它。 😁。\\n對於任...\n",
      "2  Maurice Kempers  4 個月前  球場非常棒，從某些角度來看屋頂的柱子有點煩人，但為俱樂部歡呼的人群會讓這一切都忘記。\\n最好...\n",
      "3   Rafique Gardee  2 個月前      獲得了一場精彩的主場勝利，這是一次很棒的體驗。\\n\\n球迷很友好，這裡也有很多家庭。 ⋯⋯\n",
      "4      Awang Bagas  5 個月前  太棒了，這是我第一次觀看冠軍聯賽比賽！！！聽到倫敦大學學院的國歌就在我眼前響起，我起雞皮疙瘩...\n",
      "5      Aaron Wiese  7 個月前                                                   \n",
      "6       Bull Julia  8 個月前                                                   \n",
      "7          cam jam  3 個月前                                                   \n",
      "8       اولاد شريف   2 週前                                                   \n"
     ]
    }
   ],
   "source": [
    "options = webdriver.ChromeOptions()\n",
    "options.add_experimental_option(\"excludeSwitches\", [\"enable-automation\"])\n",
    "options.add_experimental_option(\"useAutomationExtension\", False)\n",
    "\n",
    "driver = webdriver.Chrome(options=options)\n",
    "driver.get('https://www.google.com/search?q=celtic+park+glasgow+google+review') # Change URL here\n",
    "\n",
    "time.sleep(1)\n",
    "\n",
    "# Find and click on the \"Read All Reviews\" button\n",
    "read_all_reviews_button = driver.find_element(By.XPATH, \"//span[@class='hqzQac']/span/a\")\n",
    "read_all_reviews_button.click()\n",
    "\n",
    "# Wait for the pop-up box to load\n",
    "popup_box = WebDriverWait(driver, 10).until(EC.presence_of_element_located((By.XPATH, \"//div[@class ='review-dialog-list']\")))\n",
    "\n",
    "data = []\n",
    "unique_reviews = set()\n",
    "\n",
    "# Function to extract review data\n",
    "def extract_reviews():\n",
    "    reviews = popup_box.find_elements(By.XPATH, \"//div[contains(@class,'WMbnJf vY6njf gws-localreviews__google-review')]\")\n",
    "    for review in reviews:\n",
    "        try:\n",
    "            name = review.find_element(By.XPATH, \".//div[contains(@class,'TSUbDb')]/a\").text\n",
    "            date = review.find_element(By.XPATH, \".//span[contains(@class,'dehysf lTi8oc')]\").text\n",
    "            customer_review = review.find_element(By.XPATH, \".//span[contains(@class,'review-snippet')]\").text\n",
    "            \n",
    "            # Create a unique identifier for each review\n",
    "            review_id = (name, date, customer_review)\n",
    "            \n",
    "            if review_id not in unique_reviews:\n",
    "                unique_reviews.add(review_id)\n",
    "                data.append([name, date, customer_review])\n",
    "        except:\n",
    "            continue\n",
    "    return len(reviews)\n",
    "\n",
    "# Scroll within the pop-up box to load more reviews\n",
    "while True:\n",
    "    previous_reviews_count = len(data)\n",
    "    # Scroll down within the pop-up box by a larger height\n",
    "    \n",
    "    driver.execute_script(\"arguments[0].scrollBy(0, arguments[0].scrollHeight);\", popup_box)\n",
    "    time.sleep(1)\n",
    "    extract_reviews()\n",
    "    current_reviews_count = len(data)\n",
    "\n",
    "    if current_reviews_count == previous_reviews_count:\n",
    "        break  \n",
    "\n",
    "driver.quit()\n",
    "df = pd.DataFrame(data, columns=['Name', 'Date', 'Review'])\n",
    "df"
   ]
  },
  {
   "cell_type": "code",
   "execution_count": null,
   "id": "125666de",
   "metadata": {},
   "outputs": [],
   "source": []
  }
 ],
 "metadata": {
  "kernelspec": {
   "display_name": "Python 3 (ipykernel)",
   "language": "python",
   "name": "python3"
  },
  "language_info": {
   "codemirror_mode": {
    "name": "ipython",
    "version": 3
   },
   "file_extension": ".py",
   "mimetype": "text/x-python",
   "name": "python",
   "nbconvert_exporter": "python",
   "pygments_lexer": "ipython3",
   "version": "3.10.12"
  }
 },
 "nbformat": 4,
 "nbformat_minor": 5
}
